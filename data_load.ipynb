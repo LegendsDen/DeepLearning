{
  "nbformat": 4,
  "nbformat_minor": 0,
  "metadata": {
    "colab": {
      "provenance": [],
      "mount_file_id": "1iB9qF-wCxblHxi9g40Hdsi3kuEViIHWm",
      "authorship_tag": "ABX9TyMfW3OoiUY9mPDNGlbbiLD0",
      "include_colab_link": true
    },
    "kernelspec": {
      "name": "python3",
      "display_name": "Python 3"
    },
    "language_info": {
      "name": "python"
    }
  },
  "cells": [
    {
      "cell_type": "markdown",
      "metadata": {
        "id": "view-in-github",
        "colab_type": "text"
      },
      "source": [
        "<a href=\"https://colab.research.google.com/github/LegendsDen/DeepLearning/blob/main/proj.ipynb\" target=\"_parent\"><img src=\"https://colab.research.google.com/assets/colab-badge.svg\" alt=\"Open In Colab\"/></a>"
      ]
    },
    {
      "cell_type": "code",
      "execution_count": null,
      "metadata": {
        "id": "2riniCI3011l",
        "colab": {
          "base_uri": "https://localhost:8080/"
        },
        "outputId": "696a8c70-2979-497f-f57c-c860df585b70"
      },
      "outputs": [
        {
          "output_type": "stream",
          "name": "stdout",
          "text": [
            "Drive already mounted at /content/drive; to attempt to forcibly remount, call drive.mount(\"/content/drive\", force_remount=True).\n"
          ]
        }
      ],
      "source": [
        "from google.colab import drive\n",
        "drive.mount('/content/drive')\n"
      ]
    },
    {
      "cell_type": "code",
      "source": [
        "import zipfile\n",
        "import os\n",
        "\n",
        "# Path to the zip file in your Google Drive\n",
        "zip_path = '/content/drive/My Drive/caption_data_zip.zip'  # Update this if stored in a subfolder\n",
        "\n",
        "# Create an extraction directory\n",
        "extract_dir = '/content/caption_data'\n",
        "os.makedirs(extract_dir, exist_ok=True)\n",
        "\n",
        "# Extract the zip file\n",
        "with zipfile.ZipFile(zip_path, 'r') as zip_ref:\n",
        "    zip_ref.extractall(extract_dir)\n",
        "\n",
        "# Verify the extracted files\n",
        "print(\"Files extracted to:\", extract_dir)\n",
        "!ls {extract_dir}\n"
      ],
      "metadata": {
        "colab": {
          "base_uri": "https://localhost:8080/"
        },
        "id": "CkzIzSQLDCAX",
        "outputId": "00a4fa87-1ba8-4a57-97ee-a045de66c0ba"
      },
      "execution_count": null,
      "outputs": [
        {
          "output_type": "stream",
          "name": "stdout",
          "text": [
            "Files extracted to: /content/caption_data\n",
            "TEST_CAPLENS_flickr30k_5_cap_per_img_5_min_word_freq.json\n",
            "TEST_CAPTIONS_flickr30k_5_cap_per_img_5_min_word_freq.json\n",
            "TEST_IMAGES_flickr30k_5_cap_per_img_5_min_word_freq.hdf5\n",
            "TEST_LABELS_flickr30k_5_cap_per_img_5_min_word_freq.json\n",
            "TRAIN_CAPLENS_flickr30k_5_cap_per_img_5_min_word_freq.json\n",
            "TRAIN_CAPTIONS_flickr30k_5_cap_per_img_5_min_word_freq.json\n",
            "TRAIN_IMAGES_flickr30k_5_cap_per_img_5_min_word_freq.hdf5\n",
            "TRAIN_LABELS_flickr30k_5_cap_per_img_5_min_word_freq.json\n",
            "VAL_CAPLENS_flickr30k_5_cap_per_img_5_min_word_freq.json\n",
            "VAL_CAPTIONS_flickr30k_5_cap_per_img_5_min_word_freq.json\n",
            "VAL_IMAGES_flickr30k_5_cap_per_img_5_min_word_freq.hdf5\n",
            "VAL_LABELS_flickr30k_5_cap_per_img_5_min_word_freq.json\n",
            "WORDMAP_flickr30k_5_cap_per_img_5_min_word_freq.json\n"
          ]
        }
      ]
    },
    {
      "cell_type": "code",
      "source": [
        "# Example of accessing extracted files\n",
        "data_folder = '/content/caption_data'\n",
        "\n",
        "# Listing all files in the extracted folder\n",
        "for root, dirs, files in os.walk(data_folder):\n",
        "    print(\"Directory:\", root)\n",
        "    for file in files:\n",
        "        print(\"File:\", file)\n"
      ],
      "metadata": {
        "colab": {
          "base_uri": "https://localhost:8080/"
        },
        "id": "AtxN_yQADZqp",
        "outputId": "89aad921-c7ed-4277-da90-88af2ef7c415"
      },
      "execution_count": null,
      "outputs": [
        {
          "output_type": "stream",
          "name": "stdout",
          "text": [
            "Directory: /content/caption_data\n",
            "File: VAL_CAPTIONS_flickr30k_5_cap_per_img_5_min_word_freq.json\n",
            "File: VAL_LABELS_flickr30k_5_cap_per_img_5_min_word_freq.json\n",
            "File: TEST_LABELS_flickr30k_5_cap_per_img_5_min_word_freq.json\n",
            "File: TRAIN_CAPTIONS_flickr30k_5_cap_per_img_5_min_word_freq.json\n",
            "File: TEST_IMAGES_flickr30k_5_cap_per_img_5_min_word_freq.hdf5\n",
            "File: TRAIN_LABELS_flickr30k_5_cap_per_img_5_min_word_freq.json\n",
            "File: TRAIN_CAPLENS_flickr30k_5_cap_per_img_5_min_word_freq.json\n",
            "File: TRAIN_IMAGES_flickr30k_5_cap_per_img_5_min_word_freq.hdf5\n",
            "File: TEST_CAPLENS_flickr30k_5_cap_per_img_5_min_word_freq.json\n",
            "File: VAL_CAPLENS_flickr30k_5_cap_per_img_5_min_word_freq.json\n",
            "File: VAL_IMAGES_flickr30k_5_cap_per_img_5_min_word_freq.hdf5\n",
            "File: WORDMAP_flickr30k_5_cap_per_img_5_min_word_freq.json\n",
            "File: TEST_CAPTIONS_flickr30k_5_cap_per_img_5_min_word_freq.json\n"
          ]
        }
      ]
    },
    {
      "cell_type": "code",
      "source": [
        "import json\n",
        "\n",
        "# Path to the word map file\n",
        "word_map_path = '/content/caption_data/WORDMAP_flickr30k_5_cap_per_img_5_min_word_freq.json'\n",
        "\n",
        "# Open and load the word map\n",
        "with open(word_map_path, 'r') as f:\n",
        "    word_map = json.load(f)\n",
        "\n",
        "# Print a sample of the word map\n",
        "print(\"Word map sample:\", {k: word_map[k] for k in list(word_map)[:1]})\n"
      ],
      "metadata": {
        "colab": {
          "base_uri": "https://localhost:8080/"
        },
        "id": "C5gOyua_Dl4g",
        "outputId": "9880bdeb-e2e6-447b-9e8c-a65a433fcc45"
      },
      "execution_count": null,
      "outputs": [
        {
          "output_type": "stream",
          "name": "stdout",
          "text": [
            "Word map sample: {'two': 1}\n"
          ]
        }
      ]
    },
    {
      "cell_type": "code",
      "source": [],
      "metadata": {
        "id": "UiLLrQMkEl6I"
      },
      "execution_count": null,
      "outputs": []
    }
  ]
}
